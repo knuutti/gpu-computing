{
 "cells": [
  {
   "cell_type": "markdown",
   "metadata": {},
   "source": [
    "## GPU Computing\n",
    "### Eetu Knutars\n",
    "### 13.2.2025"
   ]
  },
  {
   "cell_type": "markdown",
   "metadata": {},
   "source": [
    "## Task 1\n",
    "\n",
    "Tensors are a generalisation of multidimensional arrays and the data structure in PyTorch. Experiment with PyTorch tensors as follows:\n",
    "\n",
    "- Create a 2D tensor of size 5x3 where the elements are pulled from the normal probability distribution with zero mean and unit variance.\n",
    "- Present the memory contents and the metadata (size, offset, stride) of the tensor.\n",
    "- Transpose the tensor without copying in memory.\n",
    "- Present the memory contents and the metadata (size, offset, stride) of the tensor.\n",
    "- Test whether the tensor and its transpose are contiguous in memory.\n",
    "\n",
    "*Hints: randn, size, offset, stride, transpose, is_contiguous.*"
   ]
  },
  {
   "cell_type": "code",
   "execution_count": null,
   "metadata": {},
   "outputs": [],
   "source": [
    "import torch"
   ]
  },
  {
   "cell_type": "markdown",
   "metadata": {},
   "source": [
    "Creating the tensor"
   ]
  },
  {
   "cell_type": "code",
   "execution_count": 3,
   "metadata": {},
   "outputs": [
    {
     "data": {
      "text/plain": [
       "tensor([[ 0.4393, -0.1678, -0.1097],\n",
       "        [-1.5524,  1.0322,  0.5104],\n",
       "        [-0.7807,  1.3462, -0.0729],\n",
       "        [ 1.0264,  0.5201,  2.6948],\n",
       "        [-0.3469,  0.8696,  0.5391]])"
      ]
     },
     "execution_count": 3,
     "metadata": {},
     "output_type": "execute_result"
    }
   ],
   "source": [
    "T = torch.randn(5, 3)\n",
    "T\n"
   ]
  },
  {
   "cell_type": "markdown",
   "metadata": {},
   "source": [
    "Show the memory content"
   ]
  },
  {
   "cell_type": "code",
   "execution_count": 4,
   "metadata": {},
   "outputs": [
    {
     "name": "stderr",
     "output_type": "stream",
     "text": [
      "C:\\Users\\eknut\\AppData\\Local\\Temp\\ipykernel_11160\\265805108.py:1: UserWarning: TypedStorage is deprecated. It will be removed in the future and UntypedStorage will be the only storage class. This should only matter to you if you are using storages directly.  To access UntypedStorage directly, use tensor.untyped_storage() instead of tensor.storage()\n",
      "  T.storage()\n"
     ]
    },
    {
     "data": {
      "text/plain": [
       " 0.4392538070678711\n",
       " -0.1678387075662613\n",
       " -0.10972011089324951\n",
       " -1.5524359941482544\n",
       " 1.0322325229644775\n",
       " 0.5104227066040039\n",
       " -0.7807291150093079\n",
       " 1.346225380897522\n",
       " -0.07288278639316559\n",
       " 1.0263583660125732\n",
       " 0.5201197266578674\n",
       " 2.6947731971740723\n",
       " -0.34694379568099976\n",
       " 0.8695703148841858\n",
       " 0.5391494035720825\n",
       "[torch.storage.TypedStorage(dtype=torch.float32, device=cpu) of size 15]"
      ]
     },
     "execution_count": 4,
     "metadata": {},
     "output_type": "execute_result"
    }
   ],
   "source": [
    "T.storage()"
   ]
  },
  {
   "cell_type": "markdown",
   "metadata": {},
   "source": [
    "Show the metadata of the sensor"
   ]
  },
  {
   "cell_type": "code",
   "execution_count": 5,
   "metadata": {},
   "outputs": [
    {
     "data": {
      "text/plain": [
       "(torch.Size([5, 3]), 0, (3, 1))"
      ]
     },
     "execution_count": 5,
     "metadata": {},
     "output_type": "execute_result"
    }
   ],
   "source": [
    "(T.size(), T.storage_offset(), T.stride())"
   ]
  },
  {
   "cell_type": "markdown",
   "metadata": {},
   "source": [
    "Transpose the tensor"
   ]
  },
  {
   "cell_type": "code",
   "execution_count": 7,
   "metadata": {},
   "outputs": [
    {
     "data": {
      "text/plain": [
       "tensor([[ 0.4393, -1.5524, -0.7807,  1.0264, -0.3469],\n",
       "        [-0.1678,  1.0322,  1.3462,  0.5201,  0.8696],\n",
       "        [-0.1097,  0.5104, -0.0729,  2.6948,  0.5391]])"
      ]
     },
     "execution_count": 7,
     "metadata": {},
     "output_type": "execute_result"
    }
   ],
   "source": [
    "T_t = T.transpose(0,1)\n",
    "T_t"
   ]
  },
  {
   "cell_type": "markdown",
   "metadata": {},
   "source": [
    "Show the memory contents"
   ]
  },
  {
   "cell_type": "code",
   "execution_count": 8,
   "metadata": {},
   "outputs": [
    {
     "data": {
      "text/plain": [
       " 0.4392538070678711\n",
       " -0.1678387075662613\n",
       " -0.10972011089324951\n",
       " -1.5524359941482544\n",
       " 1.0322325229644775\n",
       " 0.5104227066040039\n",
       " -0.7807291150093079\n",
       " 1.346225380897522\n",
       " -0.07288278639316559\n",
       " 1.0263583660125732\n",
       " 0.5201197266578674\n",
       " 2.6947731971740723\n",
       " -0.34694379568099976\n",
       " 0.8695703148841858\n",
       " 0.5391494035720825\n",
       "[torch.storage.TypedStorage(dtype=torch.float32, device=cpu) of size 15]"
      ]
     },
     "execution_count": 8,
     "metadata": {},
     "output_type": "execute_result"
    }
   ],
   "source": [
    "T_t.storage()"
   ]
  },
  {
   "cell_type": "markdown",
   "metadata": {},
   "source": [
    "Metadata"
   ]
  },
  {
   "cell_type": "code",
   "execution_count": 9,
   "metadata": {},
   "outputs": [
    {
     "data": {
      "text/plain": [
       "(torch.Size([3, 5]), 0, (1, 3))"
      ]
     },
     "execution_count": 9,
     "metadata": {},
     "output_type": "execute_result"
    }
   ],
   "source": [
    "(T_t.size(), T_t.storage_offset(), T_t.stride())"
   ]
  },
  {
   "cell_type": "markdown",
   "metadata": {},
   "source": [
    "Check if the tensors are contiguous"
   ]
  },
  {
   "cell_type": "code",
   "execution_count": 10,
   "metadata": {},
   "outputs": [
    {
     "data": {
      "text/plain": [
       "(True, False)"
      ]
     },
     "execution_count": 10,
     "metadata": {},
     "output_type": "execute_result"
    }
   ],
   "source": [
    "(T.is_contiguous(), T_t.is_contiguous())"
   ]
  }
 ],
 "metadata": {
  "kernelspec": {
   "display_name": "Python 3",
   "language": "python",
   "name": "python3"
  },
  "language_info": {
   "codemirror_mode": {
    "name": "ipython",
    "version": 3
   },
   "file_extension": ".py",
   "mimetype": "text/x-python",
   "name": "python",
   "nbconvert_exporter": "python",
   "pygments_lexer": "ipython3",
   "version": "3.12.3"
  }
 },
 "nbformat": 4,
 "nbformat_minor": 2
}
