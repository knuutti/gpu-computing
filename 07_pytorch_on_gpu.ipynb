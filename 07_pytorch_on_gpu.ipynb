{
  "nbformat": 4,
  "nbformat_minor": 0,
  "metadata": {
    "colab": {
      "provenance": [],
      "gpuType": "T4"
    },
    "kernelspec": {
      "name": "python3",
      "display_name": "Python 3"
    },
    "language_info": {
      "name": "python"
    },
    "accelerator": "GPU"
  },
  "cells": [
    {
      "cell_type": "markdown",
      "source": [
        "### GPU, Exercise 7\n",
        "Eetu Knutars, 2.3.2025"
      ],
      "metadata": {
        "id": "UoaUqT_l4ZxF"
      }
    },
    {
      "cell_type": "markdown",
      "source": [
        "## Task 1\n",
        "PyTorch tensors can be created by constructors or using conversions from other types of arrays. They can be directly created on a desired device or copied from one device to another.\n",
        "\n",
        "Experiment with PyTorch tensors as follows:\n",
        "\n",
        "- Prepare startup code for allowing CPU and GPU execution.\n",
        "- Create one 3D tensor of size 128^3 to the main memory (CPU) and another to the GPU memory. The tensor elements should be double precision (64-bit) floating point numbers that are sampled from the normal probability distribution with zero mean and unit variance. Determine how much memory each tensors reserves.\n",
        "- Perform matrix multiplication on the GPU with the tensors and serialise the result to storage.\n",
        "- If possible, examine the memory utilisation on the GPU while varying the tensor sizes. Does the information reflect the true utilisation of memory?\n",
        "\n",
        "*Hints: device, element_size, nelement, to, empty_cache.*"
      ],
      "metadata": {
        "id": "VQlPLKgf4cH1"
      }
    },
    {
      "cell_type": "code",
      "source": [
        "import torch\n",
        "\n",
        "# Defining the device (CPU or cuda)\n",
        "device = torch.device(\"cuda\" if torch.cuda.is_available() else \"cpu\")\n",
        "print(f\"Using device: {device}\")\n",
        "\n",
        "print(f\"GPU memory allocated at beginning: {torch.cuda.memory_allocated() / (1024 ** 2):.2f} MB\")\n",
        "\n",
        "# Create a 3D tensor of size 128^3 (double precision) on CPU\n",
        "tensor_cpu = torch.randn((128, 128, 128), dtype=torch.float64)\n",
        "\n",
        "# Copy the tensor to GPU\n",
        "tensor_gpu = tensor_cpu.to(device)\n",
        "\n",
        "print(f\"GPU memory allocated after creating the tensor: {torch.cuda.memory_allocated() / (1024 ** 2):.2f} MB\")\n",
        "\n",
        "# Perform matrix multiplication (using slices for valid dimensions)\n",
        "result = tensor_gpu @ tensor_gpu\n",
        "\n",
        "print(f\"GPU memory allocated after matrix multiplication: {torch.cuda.memory_allocated() / (1024 ** 2):.2f} MB\")\n",
        "\n",
        "# Serialize result to storage\n",
        "torch.save(result, \"result_tensor.pt\")\n",
        "\n",
        "torch.cuda.empty_cache()"
      ],
      "metadata": {
        "colab": {
          "base_uri": "https://localhost:8080/"
        },
        "id": "6L2YzqUj4fau",
        "outputId": "81307332-f23b-44fc-bf00-e54bf0a410da"
      },
      "execution_count": 28,
      "outputs": [
        {
          "output_type": "stream",
          "name": "stdout",
          "text": [
            "Using device: cuda\n",
            "GPU memory allocated at beginning: 0.00 MB\n",
            "GPU memory allocated after creating the tensor: 16.00 MB\n",
            "GPU memory allocated after matrix multiplication: 40.12 MB\n"
          ]
        }
      ]
    },
    {
      "cell_type": "markdown",
      "source": [
        "## Task 2\n",
        "A neural network (NN) is a machine learning model consisting of layers of neurons and nonlinearities in the form of activation functions. In the simplest form, only a single hidden layer is used in addition to the input and output layers. These models are typically trained in the supervised manner so that the desired outputs are known the each input. The training adjusts iteratively the model parameters, that is, the neuron weights and biases, and the model architecture and the training process are affected by hyperparameters.\n",
        "\n",
        "Implement a NN with PyTorch. Take into account the following:\n",
        "\n",
        "- Define the loss function according to the task.\n",
        "- Use automatic differentiation (autograd) in the training loop.\n",
        "- Select the hyperparameters so that the model is as simple as possible for solving the task in a reasonable way (Ockham's razor) and the training converges.\n",
        "- Train the model with the given data and show that it works.\n",
        "\n",
        "*Hints: autograd, nn.*"
      ],
      "metadata": {
        "id": "HLoHbaUFLcQL"
      }
    },
    {
      "cell_type": "code",
      "source": [
        "import torch\n",
        "import torch.nn as nn\n",
        "import torch.optim as optim\n",
        "import numpy as np\n",
        "import pandas as pd\n",
        "import matplotlib.pyplot as plt\n",
        "\n",
        "file_path = \"t005b.csv\"  # data file\n",
        "data = pd.read_csv(file_path)\n",
        "\n",
        "# Storing the data to tensors\n",
        "x = torch.tensor(data.iloc[:, 0].values, dtype=torch.float32).view(-1, 1)\n",
        "y = torch.tensor(data.iloc[:, 1].values, dtype=torch.float32).view(-1, 1)\n",
        "\n",
        "# Define a simple neural network, one hidden layer\n",
        "class SimpleNN(nn.Module):\n",
        "    def __init__(self):\n",
        "        super(SimpleNN, self).__init__()\n",
        "        self.hidden = nn.Linear(1, 50)  # One hidden layer\n",
        "        self.output = nn.Linear(50, 1)\n",
        "        self.relu = nn.ReLU()\n",
        "\n",
        "    def forward(self, x):\n",
        "        x = self.relu(self.hidden(x))\n",
        "        x = self.output(x)\n",
        "        return x\n",
        "\n",
        "# Instantiate the model, define the loss function and optimizer\n",
        "model = SimpleNN()\n",
        "criterion = nn.MSELoss()\n",
        "optimizer = optim.Adam(model.parameters(), lr=0.01)\n",
        "\n",
        "# Training the model\n",
        "epochs = 1000\n",
        "for epoch in range(epochs):\n",
        "    optimizer.zero_grad()\n",
        "    predictions = model(x)\n",
        "    loss = criterion(predictions, y)\n",
        "    loss.backward()\n",
        "    optimizer.step()\n",
        "\n",
        "    if epoch % 100 == 0:\n",
        "        print(f'Epoch {epoch}, Loss: {loss.item():.6f}')\n",
        "\n",
        "# Visualisation\n",
        "plt.scatter(x.numpy(), y.numpy(), label=\"data\")\n",
        "x_fit = torch.linspace(x.min(), x.max(), 1000).view(-1, 1)\n",
        "y_fit = model(x_fit).detach().numpy()\n",
        "plt.plot(x_fit.numpy(), y_fit, label=\"trained model\", color='red')\n",
        "plt.legend()\n",
        "plt.show()"
      ],
      "metadata": {
        "colab": {
          "base_uri": "https://localhost:8080/",
          "height": 604
        },
        "id": "zQNUtcViL8Je",
        "outputId": "35b3325f-2061-4f4d-d05a-15797c330479"
      },
      "execution_count": null,
      "outputs": [
        {
          "output_type": "stream",
          "name": "stdout",
          "text": [
            "Epoch 0, Loss: 0.561646\n",
            "Epoch 100, Loss: 0.011648\n",
            "Epoch 200, Loss: 0.010207\n",
            "Epoch 300, Loss: 0.009960\n",
            "Epoch 400, Loss: 0.009913\n",
            "Epoch 500, Loss: 0.009898\n",
            "Epoch 600, Loss: 0.009890\n",
            "Epoch 700, Loss: 0.009883\n",
            "Epoch 800, Loss: 0.009877\n",
            "Epoch 900, Loss: 0.009873\n"
          ]
        },
        {
          "output_type": "display_data",
          "data": {
            "text/plain": [
              "<Figure size 640x480 with 1 Axes>"
            ],
            "image/png": "[encoded data removed]"
          },
          "metadata": {}
        }
      ]
    },
    {
      "cell_type": "markdown",
      "source": [
        "## Task 3\n",
        "PyTorch offers a comprehensive selection of mathematical operators on tensors. These operations can be executed on a CPU or a GPU, and many of the operations are much faster on a GPU.\n",
        "\n",
        "Experiment with PyTorch tensor operations as follows:\n",
        "\n",
        "- Prepare startup code so that the same code can be executed on a CPU and a GPU.\n",
        "- Create a reasonably large 2D tensor of random numbers to the main memory (CPU) and another one of the same size to the GPU memory.\n",
        "- Perform eigenvalue decomposition of the tensors and compare the execution times of both cases so that the measurement is performed properly.\n",
        "\n",
        "*Hints: torch.linalg, torch.cuda.Event, torch.cuda.synchronize.*"
      ],
      "metadata": {
        "id": "LoK38vvs4pIm"
      }
    },
    {
      "cell_type": "code",
      "source": [
        "import torch\n",
        "import time\n",
        "\n",
        "# Function for eigenvalue decomposition for random matrices\n",
        "# input parameters are the device used and matrix size\n",
        "# outputs the time used for computation\n",
        "def measure_time(device, size=(1000, 1000)):\n",
        "    tensor = torch.rand(size, device=device)\n",
        "\n",
        "    # Measuring the time\n",
        "    start_time = time.time()\n",
        "    eigvals, eigvecs = torch.linalg.eig(tensor)\n",
        "    end_time = time.time()\n",
        "\n",
        "    return end_time - start_time\n",
        "\n",
        "# Define devices for CPU and GPU\n",
        "device_cpu = torch.device(\"cpu\")\n",
        "device_gpu = torch.device(\"cuda\")\n",
        "\n",
        "# Matrix size\n",
        "N = 2000\n",
        "matrix_size = (N, N)\n",
        "\n",
        "# Measure CPU time\n",
        "cpu_time = measure_time(device_cpu, matrix_size)\n",
        "print(f\"Eigenvalue decomposition time on CPU: {cpu_time:.6f} seconds\")\n",
        "\n",
        "# Measure GPU time\n",
        "gpu_time = measure_time(device_gpu, matrix_size)\n",
        "print(f\"Eigenvalue decomposition time on GPU: {gpu_time:.6f} seconds\")\n",
        "\n",
        "torch.cuda.empty_cache()"
      ],
      "metadata": {
        "colab": {
          "base_uri": "https://localhost:8080/"
        },
        "id": "jkUj5RJn4puq",
        "outputId": "d7f0df9a-6d35-4c9d-cc8d-94e30e395001"
      },
      "execution_count": 29,
      "outputs": [
        {
          "output_type": "stream",
          "name": "stdout",
          "text": [
            "Eigenvalue decomposition time on CPU: 4.710983 seconds\n",
            "Eigenvalue decomposition time on GPU: 2.584207 seconds\n"
          ]
        }
      ]
    }
  ]
}