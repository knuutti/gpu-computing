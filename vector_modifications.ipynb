{
  "cells": [
    {
      "cell_type": "markdown",
      "metadata": {
        "id": "HEAU8r2GALsF"
      },
      "source": [
        "# GPU Computing - Exercise 1\n",
        "## Eetu Knutars\n",
        "## 13.1.2025"
      ]
    },
    {
      "cell_type": "markdown",
      "metadata": {
        "id": "sgULEIk7HOQl"
      },
      "source": [
        "### Task 1\n",
        "Create a custom kernel which takes an empty vector as an input and each thread writes its thread index to the empty vector that is provided to the kernel.\n",
        "\n",
        "So we would input a vector of zeroes:\n",
        "\n",
        "[0, 0, 0, 0, 0, 0, ...]\n",
        "\n",
        "And the output would be a vector with:\n",
        "\n",
        "[0, 1, 2, 3, 4, 5, ...]\n"
      ]
    },
    {
      "cell_type": "markdown",
      "metadata": {
        "id": "Sb2W3ojTHW3n"
      },
      "source": [
        "Importing libraries"
      ]
    },
    {
      "cell_type": "code",
      "execution_count": 6,
      "metadata": {
        "id": "Q-X2k9-ZHTRv"
      },
      "outputs": [],
      "source": [
        "import cupy as cp\n",
        "from math import ceil\n",
        "import numpy as np"
      ]
    },
    {
      "cell_type": "markdown",
      "metadata": {
        "id": "joDDi2itHq-J"
      },
      "source": [
        "Defining the kernel, that takes address to the vector as an input and modifies the vector values"
      ]
    },
    {
      "cell_type": "code",
      "execution_count": 7,
      "metadata": {
        "id": "Sa9ses2YHtZc"
      },
      "outputs": [],
      "source": [
        "index_kernel = cp.RawKernel(r''' extern \"C\"\n",
        "__global__ void thread_indexing(float* C)\n",
        "{\n",
        "    int index = blockIdx.x * blockDim.x + threadIdx.x;\n",
        "    C[index] = index;\n",
        "\n",
        "}''', 'thread_indexing')\n"
      ]
    },
    {
      "cell_type": "markdown",
      "metadata": {
        "id": "XVaKQ-OuIGhd"
      },
      "source": [
        "Initializing the vector to be modified"
      ]
    },
    {
      "cell_type": "code",
      "execution_count": 8,
      "metadata": {
        "colab": {
          "base_uri": "https://localhost:8080/"
        },
        "id": "EpjoBJ0VIEtV",
        "outputId": "cec15b56-1882-4e35-d6a8-36b1993872e5"
      },
      "outputs": [
        {
          "name": "stdout",
          "output_type": "stream",
          "text": [
            "Input vector: [0. 0. 0. 0. 0. 0. 0. 0. 0. 0. 0. 0. 0. 0. 0. 0. 0. 0. 0. 0.]\n"
          ]
        }
      ],
      "source": [
        "vector_size = 20\n",
        "result = cp.zeros(vector_size, dtype=np.float32)\n",
        "print(\"Input vector:\", cp.asnumpy(result))\n",
        "numThreadsPerBlock = 1024\n",
        "numBlocks = ceil(vector_size/numThreadsPerBlock)"
      ]
    },
    {
      "cell_type": "markdown",
      "metadata": {
        "id": "JGgJZmFcInOM"
      },
      "source": [
        "Modifying the vector with the kernel"
      ]
    },
    {
      "cell_type": "code",
      "execution_count": 9,
      "metadata": {
        "id": "BwZIGBdoIpiU"
      },
      "outputs": [],
      "source": [
        "index_kernel((numBlocks,1,1),(numThreadsPerBlock,1,1),(result))"
      ]
    },
    {
      "cell_type": "markdown",
      "metadata": {
        "id": "gIIA7i_PIsPE"
      },
      "source": [
        "Printing the results"
      ]
    },
    {
      "cell_type": "code",
      "execution_count": 10,
      "metadata": {
        "colab": {
          "base_uri": "https://localhost:8080/"
        },
        "id": "4qeWkMENItzv",
        "outputId": "99230ce5-34ae-4008-f954-f45c7a60c508"
      },
      "outputs": [
        {
          "name": "stdout",
          "output_type": "stream",
          "text": [
            "Output vector: [ 0.  1.  2.  3.  4.  5.  6.  7.  8.  9. 10. 11. 12. 13. 14. 15. 16. 17.\n",
            " 18. 19.]\n"
          ]
        }
      ],
      "source": [
        "print(\"Output vector:\", cp.asnumpy(result))"
      ]
    },
    {
      "cell_type": "markdown",
      "metadata": {
        "id": "4b2IdEc0JUcA"
      },
      "source": [
        "## Task 2\n",
        "Implement a kernel which takes two vectors A and B and adds them together to form a vector C."
      ]
    },
    {
      "cell_type": "markdown",
      "metadata": {
        "id": "ZrPaCfmwJwNK"
      },
      "source": [
        "Importing libraries"
      ]
    },
    {
      "cell_type": "code",
      "execution_count": 62,
      "metadata": {
        "id": "JiW26iUHKJAd"
      },
      "outputs": [],
      "source": [
        "import cupy as cp\n",
        "import numpy as np\n",
        "import math"
      ]
    },
    {
      "cell_type": "markdown",
      "metadata": {
        "id": "fYkVjDHDKOZP"
      },
      "source": [
        "Kernel function"
      ]
    },
    {
      "cell_type": "code",
      "execution_count": 63,
      "metadata": {
        "id": "l28XFi__KPXi"
      },
      "outputs": [],
      "source": [
        "addition_kernel = cp.RawKernel(r''' extern \"C\"\n",
        "__global__ void thread_indexing(float* A, float* B, float* C)\n",
        "{\n",
        "    int index = blockIdx.x * blockDim.x + threadIdx.x;\n",
        "    C[index] = A[index] + B[index];\n",
        "\n",
        "\n",
        "}''', 'thread_indexing')\n"
      ]
    },
    {
      "cell_type": "markdown",
      "metadata": {
        "id": "l5zRfN-fOJ_E"
      },
      "source": [
        "Initializing the input vectors and the output vector"
      ]
    },
    {
      "cell_type": "code",
      "execution_count": 64,
      "metadata": {
        "colab": {
          "base_uri": "https://localhost:8080/"
        },
        "id": "jjXcKZwLLKFU",
        "outputId": "ef4dd1e7-3221-4045-a751-f0dad50246dc"
      },
      "outputs": [
        {
          "name": "stdout",
          "output_type": "stream",
          "text": [
            "Input A: [4.6482882  9.66821    7.405357   9.7463     0.6994483  3.6750507\n",
            " 9.093338   8.524483   3.4437883  3.0960646  0.58507067 5.754448\n",
            " 9.654255   9.9412     1.0858561  2.5014603  8.6135235  8.316432\n",
            " 1.014083   5.006768  ]\n",
            "Input B: [5.8154526  4.5723495  7.4977293  5.328376   0.10819334 1.336961\n",
            " 2.957413   9.306805   0.45186752 2.7307093  3.8831053  0.10689315\n",
            " 8.907053   3.9420607  3.6646419  7.9856114  6.811051   6.448777\n",
            " 3.1091628  1.3445395 ]\n"
          ]
        }
      ],
      "source": [
        "vector_size = 20\n",
        "\n",
        "# Lets use random number from range 0-10\n",
        "A = 10 * cp.random.random(size=vector_size, dtype=np.float32)\n",
        "B = 10* cp.random.random(vector_size, dtype=np.float32)\n",
        "C = cp.zeros(vector_size, dtype=np.float32)\n",
        "print(\"Input A:\", cp.asnumpy(A))\n",
        "print(\"Input B:\", cp.asnumpy(B))\n",
        "numThreadsPerBlock = 1024\n",
        "numBlocks = ceil(vector_size/numThreadsPerBlock)"
      ]
    },
    {
      "cell_type": "markdown",
      "metadata": {
        "id": "GpoCuI2eOG4l"
      },
      "source": [
        "Using the kernel function to modify the output vector"
      ]
    },
    {
      "cell_type": "code",
      "execution_count": 65,
      "metadata": {
        "colab": {
          "base_uri": "https://localhost:8080/"
        },
        "id": "b3u1r2X8Lbd8",
        "outputId": "8309077e-cd79-43de-eb25-0243eb856f42"
      },
      "outputs": [
        {
          "name": "stdout",
          "output_type": "stream",
          "text": [
            "Output C: [10.463741  14.24056   14.903086  15.074676   0.8076416  5.0120115\n",
            " 12.050751  17.831287   3.8956559  5.8267736  4.468176   5.861341\n",
            " 18.561308  13.883261   4.750498  10.487072  15.424574  14.765209\n",
            "  4.1232457  6.351308 ]\n"
          ]
        }
      ],
      "source": [
        "addition_kernel((numBlocks,1,1),(numThreadsPerBlock,1,1),(A,B,C))\n",
        "print(\"Output C:\", cp.asnumpy(C))"
      ]
    },
    {
      "cell_type": "markdown",
      "metadata": {
        "id": "mz_BaYKZOUzK"
      },
      "source": [
        "## Task 3\n",
        "Implement a kernel which takes in vectors A and B and C and adds A and B together and multiplies the resulting vector values with the values from C to form a vector D."
      ]
    },
    {
      "cell_type": "markdown",
      "metadata": {
        "id": "2Zfa_WbePnRp"
      },
      "source": [
        "Importing libraries"
      ]
    },
    {
      "cell_type": "code",
      "execution_count": 70,
      "metadata": {
        "id": "SuBZ8EpqPigB"
      },
      "outputs": [],
      "source": [
        "import cupy as cp\n",
        "import numpy as np\n",
        "import math"
      ]
    },
    {
      "cell_type": "markdown",
      "metadata": {
        "id": "yQyxjlz9PpZ8"
      },
      "source": [
        "Kernel function that takes addresses to the input vectors and the output vector and modifies the output vector values"
      ]
    },
    {
      "cell_type": "code",
      "execution_count": 71,
      "metadata": {
        "id": "14-clpXmPrB4"
      },
      "outputs": [],
      "source": [
        "multiplicative_kernel = cp.RawKernel(r''' extern \"C\"\n",
        "__global__ void thread_indexing(float* A, float* B, float* C, float* D)\n",
        "{\n",
        "    int index = blockIdx.x * blockDim.x + threadIdx.x;\n",
        "    D[index] = A[index] + B[index];\n",
        "    D[index] = D[index] * C[index];\n",
        "\n",
        "\n",
        "}''', 'thread_indexing')\n"
      ]
    },
    {
      "cell_type": "markdown",
      "metadata": {
        "id": "pEKo3jXjQWkR"
      },
      "source": [
        "Initializing input vectors and the output vector"
      ]
    },
    {
      "cell_type": "code",
      "execution_count": 72,
      "metadata": {
        "colab": {
          "base_uri": "https://localhost:8080/"
        },
        "id": "Qf-_o5JLP8tp",
        "outputId": "2a6cf9dd-0940-45be-c591-d80a85733e0a"
      },
      "outputs": [
        {
          "name": "stdout",
          "output_type": "stream",
          "text": [
            "Input A: [2.6577296 8.799604  1.272084  3.797549  7.1444206 5.5970592 0.9424808\n",
            " 2.3478973 8.631707  3.911983  9.2830715 7.9083185 5.0087523 7.8522873\n",
            " 5.7825785 7.870675  2.8631237 8.066626  6.551564  5.072396 ]\n",
            "Input B: [5.4199276  8.313455   0.44178367 1.3221414  4.3011703  6.5970507\n",
            " 1.5361555  9.016922   2.7818105  3.8396125  9.339224   4.7920184\n",
            " 8.526458   4.28263    8.297712   1.0424354  7.399351   9.022134\n",
            " 9.745493   8.906015  ]\n",
            "Input C: [0.48554027 8.152894   6.184269   9.971737   7.243426   1.0893439\n",
            " 4.517618   4.767298   7.679718   0.16753924 2.2954173  7.4177413\n",
            " 5.5070643  4.0653577  0.45902196 0.18310072 5.7900467  8.463949\n",
            " 7.859826   5.1542053 ]\n"
          ]
        }
      ],
      "source": [
        "vector_size = 20\n",
        "\n",
        "# Lets use random number from range 0-10\n",
        "A = 10 * cp.random.random(size=vector_size, dtype=np.float32)\n",
        "B = 10* cp.random.random(vector_size, dtype=np.float32)\n",
        "C = 10* cp.random.random(vector_size, dtype=np.float32)\n",
        "D = cp.zeros(vector_size, dtype=np.float32)\n",
        "print(\"Input A:\", cp.asnumpy(A))\n",
        "print(\"Input B:\", cp.asnumpy(B))\n",
        "print(\"Input C:\", cp.asnumpy(C))\n",
        "numThreadsPerBlock = 1024\n",
        "numBlocks = ceil(vector_size/numThreadsPerBlock)"
      ]
    },
    {
      "cell_type": "markdown",
      "metadata": {
        "id": "Gzd4ZW_RQOl4"
      },
      "source": [
        "Creating the output vector D"
      ]
    },
    {
      "cell_type": "code",
      "execution_count": 73,
      "metadata": {
        "colab": {
          "base_uri": "https://localhost:8080/"
        },
        "id": "aea0r4cXQBfo",
        "outputId": "4e98d82a-a0e0-42a9-b5c5-83e1e95e250a"
      },
      "outputs": [
        {
          "name": "stdout",
          "output_type": "stream",
          "text": [
            "Output D: [  3.922028  139.52097    10.599019   51.052204   82.90529    13.283579\n",
            "  11.197533   54.179485   87.6526      1.2986964  42.745937   94.20781\n",
            "  74.53927    49.33278     6.4631624   1.631997   59.420208  144.6384\n",
            " 128.09204    72.0476   ]\n"
          ]
        }
      ],
      "source": [
        "multiplicative_kernel((numBlocks,1,1),(numThreadsPerBlock,1,1),(A,B,C,D))\n",
        "print(\"Output D:\", cp.asnumpy(D))"
      ]
    }
  ],
  "metadata": {
    "accelerator": "GPU",
    "colab": {
      "gpuType": "T4",
      "provenance": [],
      "toc_visible": true
    },
    "kernelspec": {
      "display_name": "Python 3",
      "name": "python3"
    },
    "language_info": {
      "name": "python"
    }
  },
  "nbformat": 4,
  "nbformat_minor": 0
}
